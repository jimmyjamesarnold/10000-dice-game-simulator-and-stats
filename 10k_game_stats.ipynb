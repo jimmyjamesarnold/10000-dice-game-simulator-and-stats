{
  "nbformat": 4,
  "nbformat_minor": 0,
  "metadata": {
    "colab": {
      "name": "10k_game_stats.ipynb",
      "version": "0.3.2",
      "provenance": [],
      "collapsed_sections": [],
      "include_colab_link": true
    },
    "kernelspec": {
      "name": "python3",
      "display_name": "Python 3"
    }
  },
  "cells": [
    {
      "cell_type": "markdown",
      "metadata": {
        "id": "view-in-github",
        "colab_type": "text"
      },
      "source": [
        "[View in Colaboratory](https://colab.research.google.com/github/jimmyjamesarnold/10k_statistical_inferences/blob/master/10k_game_stats.ipynb)"
      ]
    },
    {
      "metadata": {
        "id": "BSQ0xvx3S-u8",
        "colab_type": "text"
      },
      "cell_type": "markdown",
      "source": [
        "10000 Dice Game in Python - when should you 'lock in' your score?"
      ]
    },
    {
      "metadata": {
        "id": "xwz-WXUlMsz2",
        "colab_type": "code",
        "colab": {}
      },
      "cell_type": "code",
      "source": [
        "# 10000 in Python (for stats)\n",
        "# single game, threshold = 200\n",
        "# dice df generator \n",
        "\n",
        "# dependencies\n",
        "import numpy as np\n",
        "import pandas as pd\n",
        "import matplotlib.pyplot as plt\n",
        "import seaborn as sns\n",
        "from collections import Counter\n",
        "from itertools import chain, combinations"
      ],
      "execution_count": 0,
      "outputs": []
    },
    {
      "metadata": {
        "id": "CZpch00ZQqND",
        "colab_type": "text"
      },
      "cell_type": "markdown",
      "source": [
        "First, I need to define some functions which to use in the game simulation. \n",
        "\n",
        "Namely, I need a dice generator and methods to look for scoring combinations."
      ]
    },
    {
      "metadata": {
        "id": "AyfCdlppQzRh",
        "colab_type": "code",
        "colab": {}
      },
      "cell_type": "code",
      "source": [
        "def rollDice(n) :\n",
        "  \"\"\" takes input n # dice to roll, returns pd.df\"\"\"\n",
        "  rollList = pd.DataFrame([[n+1,np.random.randint(1, 6)] for n in range(n)])\n",
        "  rollList.columns = ['die','face']\n",
        "  return rollList\n",
        "\n",
        "def searchOnes(df):\n",
        "  \"\"\"pass in df from diceRoll, evaluates, saves scores and dice indices\"\"\"\n",
        "  matched = len(df[df.face == 1].face)\n",
        "  dice = df[df.face == 1].index.values\n",
        "  if matched == 3: \n",
        "      options.append([1000, dice])\n",
        "  elif matched > 3: \n",
        "      options.append([1000 * (2 ** (matched - 3)), dice])\n",
        "\n",
        "def nOfaKind(df): \n",
        "  \"\"\"pass in df from diceRoll, evaluates, saves scores and dice indices\"\"\"\n",
        "  for i in range(2,7): \n",
        "      matched = len(df[df.face == i].face)\n",
        "      dice = df[df.face == i].index.values         \n",
        "      if matched == 3: \n",
        "          options.append([i*100, dice])\n",
        "      elif matched > 3: \n",
        "          options.append([(i*100) * (2 ** (matched - 3)), dice])\n",
        "\n",
        "def straight(df):# looks for straight\n",
        "  \"\"\" looks for straight \"\"\"\n",
        "  if df.face.nunique() == 6:\n",
        "      options.append([1000, df.index.values])\n",
        "\n",
        "# Looks for 3 Pairs\n",
        "def threePairs(df):\n",
        "  \"\"\" Counts matched pairs in set, looks for 3 pairs of 2\"\"\"\n",
        "  if list(Counter([(i,j) for i in df.die for j in df.face if i == j]).values()).count(2) == 3: # test for 3 sets of 2 in the list of counts of frequency of pairs\n",
        "      options.append([1000, df.index.values])            \n",
        "\n",
        "def comboSearch(df):\n",
        "  \"\"\" search for scoring combos in set \"\"\"\n",
        "  searchOnes(df)\n",
        "  nOfaKind(df)\n",
        "  straight(df)\n",
        "  threePairs(df)\n",
        "        "
      ],
      "execution_count": 0,
      "outputs": []
    },
    {
      "metadata": {
        "id": "D4fAK3gSQ7ma",
        "colab_type": "text"
      },
      "cell_type": "markdown",
      "source": [
        "Now I'm going to iterate through the simulator, varying the points threshold. I'll collect data on how many turns it takes to reach 10000."
      ]
    },
    {
      "metadata": {
        "id": "vhLTgTzlQ76k",
        "colab_type": "code",
        "colab": {}
      },
      "cell_type": "code",
      "source": [
        "threshold = list(range(100,1001,100))\n",
        "allGameLengths = []\n",
        "allHighScores = []\n",
        "allGameRates = []\n",
        "for pts in threshold:\n",
        "  print(str('threshold: '),pts) # option to see if code is going\n",
        "  scoreKeeper = [] # Saves top scores for stats\n",
        "  gameRates = [] # Saves scoring history - I want to plot later.\n",
        "  gameLengths = [] # Store time to 10000, ### need to make a conditional turn counter\n",
        "  for i in range(50): # Run 50 simulations\n",
        "    gameScore = [0] # this games' score\n",
        "    turnsTo10k = 0 # turn counter\n",
        "    for rounds in range(50): #run the game for 50 rounds, see what scores are generated\n",
        "      if gameScore[-1] <= 10000:\n",
        "        turnsTo10k += 1\n",
        "      score = [0] #this round's score\n",
        "      n = 6 # initialize n dice (6)\n",
        "      while n > 0:\n",
        "          options = [] # initialize options for storing combos, inside while so it's always fresh\n",
        "          df = rollDice(n) #df of dice and faces\n",
        "          comboSearch(df) \n",
        "          dfOpt = pd.DataFrame(options, columns = ['points', 'dice'])\n",
        "          if sum(dfOpt.points) > 0 : # check for combos\n",
        "              dfOpt = dfOpt[dfOpt.points == max(dfOpt.points)].reset_index() # subset for max points\n",
        "              score = sum(score + dfOpt.points) # record score from sets\n",
        "              df = df.drop(dfOpt.dice[0]) # drop scored dice\n",
        "          else: score = 0 \n",
        "          del options[:] # delete options\n",
        "          dfOpt = pd.DataFrame(columns=dfOpt.columns) # clears dfOpt\n",
        "          if len(df.index.values) > 0: # checks remaining dice for 1s and 5s\n",
        "              extra = sum([100*len(df[df.face == 1].face)] + [50*len(df[df.face == 5].face)]) # count up 100s and 50s\n",
        "              score = score + extra # add extra points\n",
        "              df = df.drop(df[df.face == 1].index.values)\n",
        "              df = df.drop(df[df.face == 5].index.values)     # drops remaining 1s and 5s\n",
        "          if score == 0: # You rolled nothing\n",
        "              gameScore.append(gameScore[-1])\n",
        "              n = 0 # ends turn\n",
        "          elif score >= pts and gameScore[-1] >= 1000: # Hit \"threshold\", lock in \n",
        "              gameScore.append(gameScore[-1] + score)\n",
        "              n = 0 # ends turn\n",
        "          elif score >= 1000: #You're on the board\n",
        "              gameScore.append(gameScore[-1] + score)\n",
        "              n = 0 # ends turn\n",
        "          else: # threshold not hit, re-roll dice\n",
        "              if len(df.index.values) > 0:\n",
        "                n = len(df.index.values) # re-roll remaining dice.\n",
        "              else: n = 6 # All dice were used, but threshold not hit, roll 6 new dice\n",
        "    print(str('round: '),i,str(' final score: '),gameScore[-1]) # option to see if code is going\n",
        "    scoreKeeper.append(gameScore[-1]) # save highest score\n",
        "    gameRates.append(gameScore) # save scoring pattern\n",
        "    gameLengths.append(turnsTo10k) # save turns to 10k\n",
        "  allHighScores.append(scoreKeeper)\n",
        "  allGameLengths.append(gameLengths)\n",
        "  allGameRates.append(gameRates)"
      ],
      "execution_count": 0,
      "outputs": []
    },
    {
      "metadata": {
        "id": "Z5p2ib8--RDE",
        "colab_type": "text"
      },
      "cell_type": "markdown",
      "source": [
        "Now that data is generated, I can run some basic descriptive stats and test hypotheses. To answer my initial question, I need to assess the number of turns needed to reach 10000 pts. This was collected as a list of lists in allGameLengths (a list of game lengths for all threshold conditions).\n",
        "\n",
        "This will require a little data wrangling."
      ]
    },
    {
      "metadata": {
        "id": "a054-xHY5i_v",
        "colab_type": "code",
        "colab": {
          "base_uri": "https://localhost:8080/",
          "height": 297
        },
        "outputId": "7b90bdf4-2b40-49f0-e729-787d16e7a386"
      },
      "cell_type": "code",
      "source": [
        "# First, convert results to df, separate for each\n",
        "df_gL = pd.DataFrame(allGameLengths, index=threshold).transpose()\n",
        "df_gL.describe()"
      ],
      "execution_count": 208,
      "outputs": [
        {
          "output_type": "execute_result",
          "data": {
            "text/html": [
              "<div>\n",
              "<style scoped>\n",
              "    .dataframe tbody tr th:only-of-type {\n",
              "        vertical-align: middle;\n",
              "    }\n",
              "\n",
              "    .dataframe tbody tr th {\n",
              "        vertical-align: top;\n",
              "    }\n",
              "\n",
              "    .dataframe thead th {\n",
              "        text-align: right;\n",
              "    }\n",
              "</style>\n",
              "<table border=\"1\" class=\"dataframe\">\n",
              "  <thead>\n",
              "    <tr style=\"text-align: right;\">\n",
              "      <th></th>\n",
              "      <th>100</th>\n",
              "      <th>200</th>\n",
              "      <th>300</th>\n",
              "      <th>400</th>\n",
              "      <th>500</th>\n",
              "      <th>600</th>\n",
              "      <th>700</th>\n",
              "      <th>800</th>\n",
              "      <th>900</th>\n",
              "      <th>1000</th>\n",
              "    </tr>\n",
              "  </thead>\n",
              "  <tbody>\n",
              "    <tr>\n",
              "      <th>count</th>\n",
              "      <td>50.000000</td>\n",
              "      <td>50.000000</td>\n",
              "      <td>50.000000</td>\n",
              "      <td>50.000000</td>\n",
              "      <td>50.000000</td>\n",
              "      <td>50.000000</td>\n",
              "      <td>50.000000</td>\n",
              "      <td>50.000000</td>\n",
              "      <td>50.000000</td>\n",
              "      <td>50.000000</td>\n",
              "    </tr>\n",
              "    <tr>\n",
              "      <th>mean</th>\n",
              "      <td>22.920000</td>\n",
              "      <td>22.540000</td>\n",
              "      <td>23.180000</td>\n",
              "      <td>23.180000</td>\n",
              "      <td>22.820000</td>\n",
              "      <td>26.460000</td>\n",
              "      <td>26.200000</td>\n",
              "      <td>28.640000</td>\n",
              "      <td>30.620000</td>\n",
              "      <td>25.120000</td>\n",
              "    </tr>\n",
              "    <tr>\n",
              "      <th>std</th>\n",
              "      <td>3.773376</td>\n",
              "      <td>4.790339</td>\n",
              "      <td>5.189039</td>\n",
              "      <td>5.117756</td>\n",
              "      <td>5.947697</td>\n",
              "      <td>7.254021</td>\n",
              "      <td>6.889803</td>\n",
              "      <td>8.537456</td>\n",
              "      <td>8.068305</td>\n",
              "      <td>6.454361</td>\n",
              "    </tr>\n",
              "    <tr>\n",
              "      <th>min</th>\n",
              "      <td>10.000000</td>\n",
              "      <td>12.000000</td>\n",
              "      <td>13.000000</td>\n",
              "      <td>13.000000</td>\n",
              "      <td>13.000000</td>\n",
              "      <td>14.000000</td>\n",
              "      <td>14.000000</td>\n",
              "      <td>7.000000</td>\n",
              "      <td>10.000000</td>\n",
              "      <td>14.000000</td>\n",
              "    </tr>\n",
              "    <tr>\n",
              "      <th>25%</th>\n",
              "      <td>21.000000</td>\n",
              "      <td>19.000000</td>\n",
              "      <td>20.000000</td>\n",
              "      <td>19.000000</td>\n",
              "      <td>19.000000</td>\n",
              "      <td>22.000000</td>\n",
              "      <td>22.250000</td>\n",
              "      <td>25.000000</td>\n",
              "      <td>24.000000</td>\n",
              "      <td>21.000000</td>\n",
              "    </tr>\n",
              "    <tr>\n",
              "      <th>50%</th>\n",
              "      <td>23.000000</td>\n",
              "      <td>22.000000</td>\n",
              "      <td>22.500000</td>\n",
              "      <td>23.500000</td>\n",
              "      <td>22.000000</td>\n",
              "      <td>25.500000</td>\n",
              "      <td>26.500000</td>\n",
              "      <td>28.000000</td>\n",
              "      <td>30.500000</td>\n",
              "      <td>24.500000</td>\n",
              "    </tr>\n",
              "    <tr>\n",
              "      <th>75%</th>\n",
              "      <td>25.000000</td>\n",
              "      <td>25.000000</td>\n",
              "      <td>26.000000</td>\n",
              "      <td>26.750000</td>\n",
              "      <td>25.000000</td>\n",
              "      <td>30.500000</td>\n",
              "      <td>30.500000</td>\n",
              "      <td>34.000000</td>\n",
              "      <td>36.000000</td>\n",
              "      <td>29.000000</td>\n",
              "    </tr>\n",
              "    <tr>\n",
              "      <th>max</th>\n",
              "      <td>31.000000</td>\n",
              "      <td>39.000000</td>\n",
              "      <td>37.000000</td>\n",
              "      <td>33.000000</td>\n",
              "      <td>42.000000</td>\n",
              "      <td>46.000000</td>\n",
              "      <td>49.000000</td>\n",
              "      <td>50.000000</td>\n",
              "      <td>49.000000</td>\n",
              "      <td>42.000000</td>\n",
              "    </tr>\n",
              "  </tbody>\n",
              "</table>\n",
              "</div>"
            ],
            "text/plain": [
              "            100        200        300        400        500        600   \\\n",
              "count  50.000000  50.000000  50.000000  50.000000  50.000000  50.000000   \n",
              "mean   22.920000  22.540000  23.180000  23.180000  22.820000  26.460000   \n",
              "std     3.773376   4.790339   5.189039   5.117756   5.947697   7.254021   \n",
              "min    10.000000  12.000000  13.000000  13.000000  13.000000  14.000000   \n",
              "25%    21.000000  19.000000  20.000000  19.000000  19.000000  22.000000   \n",
              "50%    23.000000  22.000000  22.500000  23.500000  22.000000  25.500000   \n",
              "75%    25.000000  25.000000  26.000000  26.750000  25.000000  30.500000   \n",
              "max    31.000000  39.000000  37.000000  33.000000  42.000000  46.000000   \n",
              "\n",
              "            700        800        900        1000  \n",
              "count  50.000000  50.000000  50.000000  50.000000  \n",
              "mean   26.200000  28.640000  30.620000  25.120000  \n",
              "std     6.889803   8.537456   8.068305   6.454361  \n",
              "min    14.000000   7.000000  10.000000  14.000000  \n",
              "25%    22.250000  25.000000  24.000000  21.000000  \n",
              "50%    26.500000  28.000000  30.500000  24.500000  \n",
              "75%    30.500000  34.000000  36.000000  29.000000  \n",
              "max    49.000000  50.000000  49.000000  42.000000  "
            ]
          },
          "metadata": {
            "tags": []
          },
          "execution_count": 208
        }
      ]
    },
    {
      "metadata": {
        "id": "RUuH9kuBbrN4",
        "colab_type": "text"
      },
      "cell_type": "markdown",
      "source": [
        "Based on the summary stats from 50 simulations, results suggest that going low may be the best strategy for getting to 10000 first. \n",
        "\n",
        "The two stats that I find telling are the average (mean) and standard deviation (std). \n",
        "For the mean, 200 had the lowest mean at 22.5 turns, while 800 had the highest mean at 28.6, with a big shift up moving from from 500->600.\n",
        "\n",
        "Standard deviation is also important to consider. Again, the low numbers were more consistent. 100 had the lowest stdev, at 3.8, while 800 had the highest at 8.53. Clearly 800 is a bad threshold, which is likely a product of the scoring system. \n",
        "\n",
        "To help visualize this data, we'll use a boxplot separated by thresholds. "
      ]
    },
    {
      "metadata": {
        "id": "vJ_8BzWoa2T2",
        "colab_type": "code",
        "colab": {
          "base_uri": "https://localhost:8080/",
          "height": 395
        },
        "outputId": "8c9c8bf8-bad2-4514-f975-873d89875675"
      },
      "cell_type": "code",
      "source": [
        "# Wrangle and convert length, boxplot\n",
        "df_gM = pd.melt(df_gL,var_name='Threshold',value_name='Turns to 10000')\n",
        "ax = sns.boxplot(y='Threshold',x='Turns to 10000',data=df_gM,orient=\"h\")"
      ],
      "execution_count": 133,
      "outputs": [
        {
          "output_type": "stream",
          "text": [
            "/usr/local/lib/python3.6/dist-packages/seaborn/categorical.py:454: FutureWarning: remove_na is deprecated and is a private function. Do not use.\n",
            "  box_data = remove_na(group_data)\n"
          ],
          "name": "stderr"
        },
        {
          "output_type": "display_data",
          "data": {
            "image/png": "[encoded data removed]",
            "text/plain": [
              "<matplotlib.figure.Figure at 0x7fdc524bde48>"
            ]
          },
          "metadata": {
            "tags": []
          }
        }
      ]
    },
    {
      "metadata": {
        "id": "iTas1NL4jZgC",
        "colab_type": "text"
      },
      "cell_type": "markdown",
      "source": [
        "The boxplot shows that thresholds above 500, on average, take longer to reach 10000.\n",
        "\n",
        "What's interesting to me is that once you're on the board, locking in at 100 is just as likely to get you to 10000 as holding out for 500. \n",
        "\n",
        "Additionally, we can look at the ECDF of each threshold to get an idea of the relative probability of success at any given turn."
      ]
    },
    {
      "metadata": {
        "id": "neewXyf22JNi",
        "colab_type": "code",
        "colab": {}
      },
      "cell_type": "code",
      "source": [
        "def ecdf(data):\n",
        "    \"\"\"Compute ECDF for a one-dimensional array of measurements.\"\"\"\n",
        "    # Number of data points: n\n",
        "    n = len(data)\n",
        "    # x-data for the ECDF: x\n",
        "    x = np.sort(data)\n",
        "    # y-data for the ECDF: y\n",
        "    y = np.arange(1, n+1) / n\n",
        "    return x, y"
      ],
      "execution_count": 0,
      "outputs": []
    },
    {
      "metadata": {
        "id": "Tw9Vcz393ibM",
        "colab_type": "code",
        "colab": {
          "base_uri": "https://localhost:8080/",
          "height": 361
        },
        "outputId": "2c706ca0-c663-477d-abad-fe922cf8efc2"
      },
      "cell_type": "code",
      "source": [
        "# Get ECDF for 100\n",
        "x1,y1 = ecdf(df_gL[100])\n",
        "# Plot the ECDF\n",
        "_ = plt.plot(x1,y1, '.')\n",
        "_ = plt.xlabel('Game Length - 100pts Threshold')\n",
        "_ = plt.ylabel('ECDF')\n",
        "\n",
        "# test if 100 is normally distributed.\n",
        "# take random sampling and overlay ecdf\n",
        "samples = np.random.normal(np.mean(df_gL[100]),np.std(df_gL[100]),size=10000)\n",
        "x_theor,y_theor = ecdf(samples)\n",
        "# Plot theoretical ECDF\n",
        "_ = plt.plot(x_theor,y_theor)\n",
        "plt.show()"
      ],
      "execution_count": 165,
      "outputs": [
        {
          "output_type": "display_data",
          "data": {
            "image/png": "[encoded data removed]",
            "text/plain": [
              "<matplotlib.figure.Figure at 0x7fdc500e3828>"
            ]
          },
          "metadata": {
            "tags": []
          }
        }
      ]
    },
    {
      "metadata": {
        "id": "uSq1Fz7l_YMl",
        "colab_type": "text"
      },
      "cell_type": "markdown",
      "source": [
        "Looks like a perfect fit, which is expected as we were simulating independent dices rolls from random."
      ]
    },
    {
      "metadata": {
        "id": "_29GyNqb8Dra",
        "colab_type": "code",
        "colab": {
          "base_uri": "https://localhost:8080/",
          "height": 361
        },
        "outputId": "fb9d90e9-9f30-431c-f7b1-3e142c8a7447"
      },
      "cell_type": "code",
      "source": [
        "# Do the same for, say, 800\n",
        "\n",
        "# Get ECDF for 100\n",
        "x2,y2 = ecdf(df_gL[800])\n",
        "# Plot the ECDF\n",
        "_ = plt.plot(x2,y2, '.',c='red')\n",
        "_ = plt.xlabel('Game Length - 100pts Threshold')\n",
        "_ = plt.ylabel('ECDF')\n",
        "\n",
        "# test if 100 is normally distributed.\n",
        "# take random sampling and overlay ecdf\n",
        "samples = np.random.normal(np.mean(df_gL[800]),np.std(df_gL[800]),size=10000)\n",
        "x_theor2,y_theor2 = ecdf(samples)\n",
        "# Plot theoretical ECDF\n",
        "_ = plt.plot(x_theor2,y_theor2)\n",
        "plt.show()"
      ],
      "execution_count": 169,
      "outputs": [
        {
          "output_type": "display_data",
          "data": {
            "image/png": "[encoded data removed]",
            "text/plain": [
              "<matplotlib.figure.Figure at 0x7fdc50090048>"
            ]
          },
          "metadata": {
            "tags": []
          }
        }
      ]
    },
    {
      "metadata": {
        "id": "g92STO8I8kWc",
        "colab_type": "text"
      },
      "cell_type": "markdown",
      "source": [
        "Different threshold, same distribution. \n",
        "\n",
        "Since the code is written up, I could just run 10000 simulations for each condition. But that takes a long time, and I want to practice some of the bootstrapping 'hacker statistics' skills I recently learned.\n",
        "\n",
        "Specifically, I want to calculate the 95% confidence interval for the game length as a function of threshold using bootstrap sampling.\n"
      ]
    },
    {
      "metadata": {
        "id": "N5eE9nJy_JBl",
        "colab_type": "code",
        "colab": {}
      },
      "cell_type": "code",
      "source": [
        "# I need two functions to be my work horses for this task\n",
        "\n",
        "# a data sampler\n",
        "def bootstrap_replicate_1d(data, func):\n",
        "    return func(np.random.choice(data, size=len(data)))\n",
        "\n",
        "# a generator\n",
        "def draw_bs_reps(data, func, size=1):\n",
        "    \"\"\"Draw bootstrap replicates.\"\"\"\n",
        "    # Initialize array of replicates: bs_replicate as a place holder\n",
        "    bs_replicates = np.empty(shape = size)\n",
        "    # Generate replicates\n",
        "    for i in range(size):\n",
        "        bs_replicates[i] = bootstrap_replicate_1d(data, func)\n",
        "    return bs_replicates\n"
      ],
      "execution_count": 0,
      "outputs": []
    },
    {
      "metadata": {
        "id": "pQ4_JdW8DfIg",
        "colab_type": "code",
        "colab": {
          "base_uri": "https://localhost:8080/",
          "height": 527
        },
        "outputId": "b5ed252d-63f5-4449-84c1-2464db0e6095"
      },
      "cell_type": "code",
      "source": [
        "# Apply to each threshold set and print\n",
        "for i in df_gL:\n",
        "  # Take 10,000 bootstrap replicates of the mean: bs_replicates\n",
        "  bs_replicates = draw_bs_reps(df_gL[i].values, np.mean, size=10000)\n",
        "  # for 2.5 and 97.5 percentils of bootstrapped replicates\n",
        "  bs_prc = np.percentile(bs_replicates, [2.5, 97.5])\n",
        "  print('Threshold: ',i,' points')\n",
        "  print('Avg. game length: ',np.mean(bs_replicates),' turns')\n",
        "  print('95% confidence interval =', bs_prc,' turns')"
      ],
      "execution_count": 207,
      "outputs": [
        {
          "output_type": "stream",
          "text": [
            "Threshold:  100  points\n",
            "Avg. game length:  22.918376000000002  turns\n",
            "95% confidence interval = [21.88 23.94]  turns\n",
            "Threshold:  200  points\n",
            "Avg. game length:  22.552994  turns\n",
            "95% confidence interval = [21.26 23.9 ]  turns\n",
            "Threshold:  300  points\n",
            "Avg. game length:  23.168494  turns\n",
            "95% confidence interval = [21.78 24.62]  turns\n",
            "Threshold:  400  points\n",
            "Avg. game length:  23.170358  turns\n",
            "95% confidence interval = [21.76 24.6 ]  turns\n",
            "Threshold:  500  points\n",
            "Avg. game length:  22.817638  turns\n",
            "95% confidence interval = [21.28 24.5 ]  turns\n",
            "Threshold:  600  points\n",
            "Avg. game length:  26.466644  turns\n",
            "95% confidence interval = [24.52 28.48]  turns\n",
            "Threshold:  700  points\n",
            "Avg. game length:  26.17546  turns\n",
            "95% confidence interval = [24.3  28.12]  turns\n",
            "Threshold:  800  points\n",
            "Avg. game length:  28.629174  turns\n",
            "95% confidence interval = [26.32 31.02]  turns\n",
            "Threshold:  900  points\n",
            "Avg. game length:  30.630308000000003  turns\n",
            "95% confidence interval = [28.4  32.84]  turns\n",
            "Threshold:  1000  points\n",
            "Avg. game length:  25.139958  turns\n",
            "95% confidence interval = [23.4  26.98]  turns\n"
          ],
          "name": "stdout"
        }
      ]
    },
    {
      "metadata": {
        "id": "EhZ2uTnZJqAS",
        "colab_type": "text"
      },
      "cell_type": "markdown",
      "source": [
        "Based on the confidence intervals of 10000 bootstrapped samples, there does not appear to be a noticeable increase when going from 100-500pts, but going above 500 looks pretty risky.\n",
        "\n",
        "We could also calculate the difference p-value to see if going from 500->600 is in fact significantly worse, but I don't think it is necessary. \n",
        "\n",
        "Based on these results, I hypothesize that never re-rolling is the optimal strategy. Take what you can get, because something is better than nothing. If you roll 1x 1 for 100s, and have the option of re-rolling, this data would suggest your best move to is take the 100 and end.\n",
        "\n",
        "Next steps: \n",
        "\n",
        "To test the hypothesis, that re-rolling alone is more important than thresholding, I'll need to make some changes to the code. \n",
        "\n",
        "I would also like to try gamify this code, and use Deep Learning to see if there are any strategies I'm not considering. "
      ]
    }
  ]
}