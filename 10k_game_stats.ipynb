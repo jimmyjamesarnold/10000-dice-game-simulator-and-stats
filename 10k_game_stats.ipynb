{
  "nbformat": 4,
  "nbformat_minor": 0,
  "metadata": {
    "colab": {
      "name": "10k_game_stats.ipynb",
      "version": "0.3.2",
      "provenance": [],
      "collapsed_sections": [],
      "include_colab_link": true
    },
    "kernelspec": {
      "name": "python3",
      "display_name": "Python 3"
    }
  },
  "cells": [
    {
      "cell_type": "markdown",
      "metadata": {
        "id": "view-in-github",
        "colab_type": "text"
      },
      "source": [
        "[View in Colaboratory](https://colab.research.google.com/github/jimmyjamesarnold/10k_statistical_inferences/blob/master/10k_game_stats.ipynb)"
      ]
    },
    {
      "metadata": {
        "id": "BSQ0xvx3S-u8",
        "colab_type": "text"
      },
      "cell_type": "markdown",
      "source": [
        "10000 Dice Game in Python - when should you 'lock in' your score?"
      ]
    },
    {
      "metadata": {
        "id": "xwz-WXUlMsz2",
        "colab_type": "code",
        "colab": {}
      },
      "cell_type": "code",
      "source": [
        "# 10000 in Python (for stats)\n",
        "# single game, threshold = 200\n",
        "# dice df generator \n",
        "\n",
        "# dependencies\n",
        "import numpy as np\n",
        "import pandas as pd\n",
        "import matplotlib.pyplot as plt\n",
        "from collections import Counter\n",
        "from itertools import chain, combinations"
      ],
      "execution_count": 0,
      "outputs": []
    },
    {
      "metadata": {
        "id": "CZpch00ZQqND",
        "colab_type": "text"
      },
      "cell_type": "markdown",
      "source": [
        ""
      ]
    },
    {
      "metadata": {
        "id": "AyfCdlppQzRh",
        "colab_type": "code",
        "colab": {}
      },
      "cell_type": "code",
      "source": [
        "def rollDice(n) :\n",
        "  \"\"\" takes input n # dice to roll, returns pd.df\"\"\"\n",
        "  rollList = pd.DataFrame([[n+1,np.random.randint(1, 6)] for n in range(n)])\n",
        "  rollList.columns = ['die','face']\n",
        "  return rollList\n",
        "\n",
        "def searchOnes(df):\n",
        "  \"\"\"pass in df from diceRoll, evaluates, saves scores and dice indices\"\"\"\n",
        "  matched = len(df[df.face == 1].face)\n",
        "  dice = df[df.face == 1].index.values\n",
        "  if matched == 3: \n",
        "      options.append([1000, dice])\n",
        "  elif matched > 3: \n",
        "      options.append([1000 * (2 ** (matched - 3)), dice])\n",
        "\n",
        "def nOfaKind(df): \n",
        "  \"\"\"pass in df from diceRoll, evaluates, saves scores and dice indices\"\"\"\n",
        "  for i in range(2,7): \n",
        "      matched = len(df[df.face == i].face)\n",
        "      dice = df[df.face == i].index.values         \n",
        "      if matched == 3: \n",
        "          options.append([i*100, dice])\n",
        "      elif matched > 3: \n",
        "          options.append([(i*100) * (2 ** (matched - 3)), dice])\n",
        "\n",
        "def straight(df):# looks for straight\n",
        "  \"\"\" looks for straight \"\"\"\n",
        "  if df.face.nunique() == 6:\n",
        "      options.append([1000, df.index.values])\n",
        "\n",
        "# Looks for 3 Pairs\n",
        "def threePairs(df):\n",
        "  \"\"\" Counts matched pairs in set, looks for 3 pairs of 2\"\"\"\n",
        "  if list(Counter([(i,j) for i in df.die for j in df.face if i == j]).values()).count(2) == 3: # test for 3 sets of 2 in the list of counts of frequency of pairs\n",
        "      options.append([1000, df.index.values])            \n",
        "\n",
        "def comboSearch(df):\n",
        "  \"\"\" search for scoring combos in set \"\"\"\n",
        "  searchOnes(df)\n",
        "  nOfaKind(df)\n",
        "  straight(df)\n",
        "  threePairs(df)\n",
        "        "
      ],
      "execution_count": 0,
      "outputs": []
    },
    {
      "metadata": {
        "id": "WH-BfNkRQ4hJ",
        "colab_type": "text"
      },
      "cell_type": "markdown",
      "source": [
        ""
      ]
    },
    {
      "metadata": {
        "id": "ycK5jQFiQ44y",
        "colab_type": "code",
        "colab": {
          "base_uri": "https://localhost:8080/",
          "height": 207
        },
        "outputId": "303e598d-1132-4721-8e8e-379ba7a4c459"
      },
      "cell_type": "code",
      "source": [
        "scoreKeeper = [] # Saves top scores for stats\n",
        "#gameRates = [] # Saves scoring history - I want to plot later.\n",
        "gameLengths = [] # Store time to 10000, ### need to make a conditional turn counter\n",
        "for i in range(10): \n",
        "  gameScore = [0] # this games' score\n",
        "  turnsTo10k = 0 # turn counter\n",
        "  for rounds in range(30): #run the game for 30 cycles, see what scores are generated\n",
        "    if gameScore[-1] <= 10000:\n",
        "      turnsTo10k += 1\n",
        "    score = [0] #this round's score\n",
        "    n = 6 # initialize n dice (6)\n",
        "    while n > 0:\n",
        "        options = [] # initialize options for storing combos, inside while so it's always fresh\n",
        "        df = rollDice(n) #df of dice and faces\n",
        "        comboSearch(df) \n",
        "        dfOpt = pd.DataFrame(options, columns = ['points', 'dice'])\n",
        "        if sum(dfOpt.points) > 0 : # check for combos\n",
        "            dfOpt = dfOpt[dfOpt.points == max(dfOpt.points)].reset_index() # subset for max points\n",
        "            score = sum(score + dfOpt.points) # record score from sets\n",
        "            df = df.drop(dfOpt.dice[0]) # drop scored dice\n",
        "        else: score = 0 \n",
        "        del options[:] # delete options\n",
        "        dfOpt = pd.DataFrame(columns=dfOpt.columns) # clears dfOpt\n",
        "        if len(df.index.values) > 0: # checks remaining dice for 1s and 5s\n",
        "            extra = sum([100*len(df[df.face == 1].face)] + [50*len(df[df.face == 5].face)]) # count up 100s and 50s\n",
        "            score = score + extra # add extra points\n",
        "            df = df.drop(df[df.face == 1].index.values)\n",
        "            df = df.drop(df[df.face == 5].index.values)     # drops remaining 1s and 5s\n",
        "        if score == 0: # You rolled nothing\n",
        "            gameScore.append(gameScore[-1])\n",
        "            n = 0 # ends turn\n",
        "        elif score >= 200 and gameScore[-1] >= 1000: # Hit \"threshold\", lock in \n",
        "            gameScore.append(gameScore[-1] + score)\n",
        "            n = 0 # ends turn\n",
        "        elif score >= 1000: #You're on the board\n",
        "            gameScore.append(gameScore[-1] + score)\n",
        "            n = 0 # ends turn\n",
        "        else: # threshold not hit, re-roll dice\n",
        "            if len(df.index.values) > 0:\n",
        "              n = len(df.index.values) # re-roll remaining dice.\n",
        "            else: n = 6 # All dice were used, but threshold not hit, roll 6 new dice\n",
        "  scoreKeeper.append(gameScore[-1]) # save highest score\n",
        "  #gameRates.append(gameScore) # save scoring pattern\n",
        "  gameLengths.append(turnsTo10k) # save turns to 10k\n",
        "  print(gameScore)\n",
        "  \n",
        "  "
      ],
      "execution_count": 16,
      "outputs": [
        {
          "output_type": "stream",
          "text": [
            "[0, 0, 1050, 1250, 1450, 1650, 2200, 2500, 2700, 3850, 4150, 4350, 4800, 5000, 5400, 5700, 5950, 6850, 7050, 7300, 7300, 7500, 8000, 8500, 8700, 9850, 10100, 10750, 11250, 11500, 12500]\n",
            "[0, 0, 0, 1000, 1500, 1950, 3050, 3550, 3800, 4250, 4750, 4950, 5950, 6150, 6150, 6650, 7650, 8650, 9650, 9900, 10400, 11050, 12050, 12650, 12650, 13200, 13400, 13700, 14150, 14400, 15400]\n",
            "[0, 0, 1100, 1300, 1550, 2650, 2850, 4900, 5150, 5150, 5350, 5550, 5800, 6100, 6950, 7150, 7350, 7950, 8300, 9350, 9550, 9800, 10050, 10750, 11800, 12100, 12300, 16300, 17350, 18000, 18450]\n",
            "[0, 0, 0, 0, 1000, 1200, 1400, 1400, 1600, 2200, 2900, 2900, 3950, 4150, 4350, 4850, 5450, 5750, 6050, 6050, 6650, 6850, 7150, 7750, 8050, 9150, 9600, 10000, 10350, 11350, 11600]\n",
            "[0, 1000, 1400, 2000, 2300, 2550, 2900, 3300, 3800, 4400, 4850, 5300, 6000, 7000, 7500, 7750, 8400, 9400, 10200, 10400, 11500, 12000, 12500, 12750, 13150, 14200, 14600, 15100, 16300, 16600, 17300]\n",
            "[0, 0, 0, 0, 0, 0, 0, 1000, 1200, 1400, 1800, 2050, 2650, 2850, 3050, 3500, 4500, 5500, 6500, 7550, 7850, 8450, 8700, 8700, 9200, 9500, 9950, 9950, 9950, 10250, 10500]\n",
            "[0, 0, 0, 0, 1050, 1050, 1350, 1600, 1800, 2050, 2550, 2800, 3900, 4900, 5100, 5300, 5600, 6150, 7250, 7750, 8200, 8650, 9650, 10650, 10900, 11150, 11500, 11950, 12350, 13000, 14050]\n",
            "[0, 0, 0, 4000, 5000, 5650, 5650, 6650, 7000, 7450, 8450, 8700, 8900, 8900, 8900, 9700, 9900, 10200, 10500, 11150, 11550, 12150, 12550, 12800, 13050, 13250, 13750, 14850, 15250, 15650, 15900]\n",
            "[0, 1000, 1500, 2550, 2900, 3150, 3650, 4350, 4350, 4650, 4850, 6900, 7150, 7750, 8000, 8600, 8800, 9250, 11250, 11900, 12900, 12900, 13200, 14200, 14800, 14800, 15850, 16850, 17900, 18150, 19150]\n",
            "[0, 0, 0, 1050, 2100, 2700, 3100, 4100, 4700, 4700, 5100, 5450, 6200, 6500, 6700, 7200, 8300, 8900, 9100, 9350, 9850, 10650, 11800, 12000, 12200, 13300, 13500, 13700, 14100, 14300, 14900]\n"
          ],
          "name": "stdout"
        }
      ]
    },
    {
      "metadata": {
        "id": "D4fAK3gSQ7ma",
        "colab_type": "text"
      },
      "cell_type": "markdown",
      "source": [
        ""
      ]
    },
    {
      "metadata": {
        "id": "IoSIHvXPzhP8",
        "colab_type": "code",
        "colab": {
          "base_uri": "https://localhost:8080/",
          "height": 51
        },
        "outputId": "26b0e12d-3deb-4bed-dabc-94cb73f9ac39"
      },
      "cell_type": "code",
      "source": [
        "print(str('final scores:'),scoreKeeper)\n",
        "print(str('turns to 10000:'),gameLengths)"
      ],
      "execution_count": 24,
      "outputs": [
        {
          "output_type": "stream",
          "text": [
            "final scores: [12500, 15400, 18450, 11600, 17300, 10500, 14050, 15900, 19150, 14900]\n",
            "turns to 10000: [26, 20, 22, 28, 18, 29, 23, 17, 18, 21]\n"
          ],
          "name": "stdout"
        }
      ]
    },
    {
      "metadata": {
        "id": "vhLTgTzlQ76k",
        "colab_type": "code",
        "colab": {
          "base_uri": "https://localhost:8080/",
          "height": 1887
        },
        "outputId": "efc06a71-6ab3-448d-f16c-95adebf7f862"
      },
      "cell_type": "code",
      "source": [
        "threshold = list(range(100,1001,100))\n",
        "allGameLengths = []\n",
        "allHighScores = []\n",
        "for pts in threshold:\n",
        "  print(str('threshold: '),pts) # option to see if code is going\n",
        "  scoreKeeper = [] # Saves top scores for stats\n",
        "  #gameRates = [] # Saves scoring history - I want to plot later.\n",
        "  gameLengths = [] # Store time to 10000, ### need to make a conditional turn counter\n",
        "  for i in range(10): \n",
        "    gameScore = [0] # this games' score\n",
        "    turnsTo10k = 0 # turn counter\n",
        "    for rounds in range(30): #run the game for 30 cycles, see what scores are generated\n",
        "      if gameScore[-1] <= 10000:\n",
        "        turnsTo10k += 1\n",
        "      score = [0] #this round's score\n",
        "      n = 6 # initialize n dice (6)\n",
        "      while n > 0:\n",
        "          options = [] # initialize options for storing combos, inside while so it's always fresh\n",
        "          df = rollDice(n) #df of dice and faces\n",
        "          comboSearch(df) \n",
        "          dfOpt = pd.DataFrame(options, columns = ['points', 'dice'])\n",
        "          if sum(dfOpt.points) > 0 : # check for combos\n",
        "              dfOpt = dfOpt[dfOpt.points == max(dfOpt.points)].reset_index() # subset for max points\n",
        "              score = sum(score + dfOpt.points) # record score from sets\n",
        "              df = df.drop(dfOpt.dice[0]) # drop scored dice\n",
        "          else: score = 0 \n",
        "          del options[:] # delete options\n",
        "          dfOpt = pd.DataFrame(columns=dfOpt.columns) # clears dfOpt\n",
        "          if len(df.index.values) > 0: # checks remaining dice for 1s and 5s\n",
        "              extra = sum([100*len(df[df.face == 1].face)] + [50*len(df[df.face == 5].face)]) # count up 100s and 50s\n",
        "              score = score + extra # add extra points\n",
        "              df = df.drop(df[df.face == 1].index.values)\n",
        "              df = df.drop(df[df.face == 5].index.values)     # drops remaining 1s and 5s\n",
        "          if score == 0: # You rolled nothing\n",
        "              gameScore.append(gameScore[-1])\n",
        "              n = 0 # ends turn\n",
        "          elif score >= pts and gameScore[-1] >= 1000: # Hit \"threshold\", lock in \n",
        "              gameScore.append(gameScore[-1] + score)\n",
        "              n = 0 # ends turn\n",
        "          elif score >= 1000: #You're on the board\n",
        "              gameScore.append(gameScore[-1] + score)\n",
        "              n = 0 # ends turn\n",
        "          else: # threshold not hit, re-roll dice\n",
        "              if len(df.index.values) > 0:\n",
        "                n = len(df.index.values) # re-roll remaining dice.\n",
        "              else: n = 6 # All dice were used, but threshold not hit, roll 6 new dice\n",
        "    print(str('round: '),i,str(' final score: '),gameScore[-1]) # option to see if code is going\n",
        "    scoreKeeper.append(gameScore[-1]) # save highest score\n",
        "    #gameRates.append(gameScore) # save scoring pattern\n",
        "    gameLengths.append(turnsTo10k) # save turns to 10k\n",
        "  allHighScores.append(scoreKeeper)\n",
        "  allGameLengths.append(gameLengths)\n"
      ],
      "execution_count": 31,
      "outputs": [
        {
          "output_type": "stream",
          "text": [
            "threshold:  100\n",
            "round:  0  final score:  9700\n",
            "round:  1  final score:  16450\n",
            "round:  2  final score:  12300\n",
            "round:  3  final score:  14000\n",
            "round:  4  final score:  11400\n",
            "round:  5  final score:  12850\n",
            "round:  6  final score:  11850\n",
            "round:  7  final score:  8150\n",
            "round:  8  final score:  11800\n",
            "round:  9  final score:  15200\n",
            "threshold:  200\n",
            "round:  0  final score:  12800\n",
            "round:  1  final score:  10800\n",
            "round:  2  final score:  15400\n",
            "round:  3  final score:  16700\n",
            "round:  4  final score:  13200\n",
            "round:  5  final score:  10800\n",
            "round:  6  final score:  18100\n",
            "round:  7  final score:  18400\n",
            "round:  8  final score:  17150\n",
            "round:  9  final score:  15400\n",
            "threshold:  300\n",
            "round:  0  final score:  15450\n",
            "round:  1  final score:  12100\n",
            "round:  2  final score:  16100\n",
            "round:  3  final score:  16350\n",
            "round:  4  final score:  10950\n",
            "round:  5  final score:  17400\n",
            "round:  6  final score:  17450\n",
            "round:  7  final score:  15750\n",
            "round:  8  final score:  12600\n",
            "round:  9  final score:  15150\n",
            "threshold:  400\n",
            "round:  0  final score:  13200\n",
            "round:  1  final score:  15600\n",
            "round:  2  final score:  10000\n",
            "round:  3  final score:  11900\n",
            "round:  4  final score:  12650\n",
            "round:  5  final score:  15500\n",
            "round:  6  final score:  12800\n",
            "round:  7  final score:  13550\n",
            "round:  8  final score:  16050\n",
            "round:  9  final score:  12800\n",
            "threshold:  500\n",
            "round:  0  final score:  13250\n",
            "round:  1  final score:  11400\n",
            "round:  2  final score:  13800\n",
            "round:  3  final score:  12100\n",
            "round:  4  final score:  13650\n",
            "round:  5  final score:  11200\n",
            "round:  6  final score:  16700\n",
            "round:  7  final score:  13500\n",
            "round:  8  final score:  13900\n",
            "round:  9  final score:  11000\n",
            "threshold:  600\n",
            "round:  0  final score:  12700\n",
            "round:  1  final score:  7350\n",
            "round:  2  final score:  19150\n",
            "round:  3  final score:  11200\n",
            "round:  4  final score:  14750\n",
            "round:  5  final score:  11500\n",
            "round:  6  final score:  11750\n",
            "round:  7  final score:  7200\n",
            "round:  8  final score:  14650\n",
            "round:  9  final score:  18050\n",
            "threshold:  700\n",
            "round:  0  final score:  16400\n",
            "round:  1  final score:  12650\n",
            "round:  2  final score:  5600\n",
            "round:  3  final score:  9300\n",
            "round:  4  final score:  14650\n",
            "round:  5  final score:  14550\n",
            "round:  6  final score:  17300\n",
            "round:  7  final score:  14300\n",
            "round:  8  final score:  10850\n",
            "round:  9  final score:  10450\n",
            "threshold:  800\n",
            "round:  0  final score:  12700\n",
            "round:  1  final score:  7100\n",
            "round:  2  final score:  13350\n",
            "round:  3  final score:  13650\n",
            "round:  4  final score:  12200\n",
            "round:  5  final score:  12850\n",
            "round:  6  final score:  9300\n"
          ],
          "name": "stdout"
        },
        {
          "output_type": "stream",
          "text": [
            "round:  7  final score:  10950\n",
            "round:  8  final score:  11050\n",
            "round:  9  final score:  17250\n",
            "threshold:  900\n",
            "round:  0  final score:  8300\n",
            "round:  1  final score:  14750\n",
            "round:  2  final score:  13050\n",
            "round:  3  final score:  8450\n",
            "round:  4  final score:  11100\n",
            "round:  5  final score:  11900\n",
            "round:  6  final score:  9050\n",
            "round:  7  final score:  12900\n",
            "round:  8  final score:  5400\n",
            "round:  9  final score:  11350\n",
            "threshold:  1000\n",
            "round:  0  final score:  10250\n",
            "round:  1  final score:  6400\n",
            "round:  2  final score:  12250\n",
            "round:  3  final score:  17550\n",
            "round:  4  final score:  12750\n",
            "round:  5  final score:  5150\n",
            "round:  6  final score:  8500\n",
            "round:  7  final score:  9200\n",
            "round:  8  final score:  10650\n",
            "round:  9  final score:  7200\n"
          ],
          "name": "stdout"
        }
      ]
    },
    {
      "metadata": {
        "id": "Z5p2ib8--RDE",
        "colab_type": "text"
      },
      "cell_type": "markdown",
      "source": [
        "Just from a quick look at the final scores, it seems pretty clear that going above 500 seem to have a lower probability of reaching 10000. \n",
        "This can visualized via histogram of the 'allHighScores' - which tracked the highest score reached after 30 rounds, for each threshold."
      ]
    },
    {
      "metadata": {
        "id": "a054-xHY5i_v",
        "colab_type": "code",
        "colab": {
          "base_uri": "https://localhost:8080/",
          "height": 71
        },
        "outputId": "63797768-1a6b-467f-e3ba-c7c7be8fc0fc"
      },
      "cell_type": "code",
      "source": [
        "print(allHighScores)\n",
        "print(allGameLengths)"
      ],
      "execution_count": 29,
      "outputs": [
        {
          "output_type": "stream",
          "text": [
            "[[13000, 17700, 12150, 15900, 10800, 19500, 16500, 15650, 14100, 13750], [10500, 12600, 16350, 14900, 14850, 14550, 13700, 12600, 12850, 16900], [14850, 12000, 14750, 14650, 11650, 10500, 10400, 14450, 14650, 14500], [20600, 10050, 9900, 17150, 12600, 14100, 8300, 8800, 15150, 10900], [13750, 15000, 15950, 11050, 8600, 11050, 16450, 19500, 14400, 8850], [12100, 12100, 14800, 14500, 15200, 11200, 16900, 14200, 8950, 13350], [4650, 14350, 14250, 10900, 13050, 10550, 13450, 10400, 13700, 13900], [13150, 10450, 8400, 6900, 10700, 9600, 11400, 12700, 12650, 8950], [7750, 14750, 7500, 13050, 14900, 13600, 8800, 16150, 21950, 6850], [5200, 4400, 4150, 10000, 12650, 9600, 9000, 10100, 6850, 18900]]\n",
            "[[25, 20, 26, 16, 30, 16, 15, 19, 22, 17], [29, 27, 18, 23, 15, 18, 22, 25, 25, 15], [23, 23, 22, 22, 22, 26, 30, 16, 22, 26], [9, 29, 30, 17, 27, 26, 30, 30, 19, 30], [19, 21, 16, 27, 30, 27, 26, 21, 24, 30], [29, 28, 16, 24, 25, 29, 19, 20, 30, 22], [30, 24, 22, 30, 25, 30, 28, 29, 19, 25], [23, 23, 30, 30, 29, 30, 25, 24, 25, 30], [30, 21, 30, 22, 23, 20, 30, 18, 12, 30], [30, 30, 30, 30, 22, 30, 30, 25, 30, 18]]\n"
          ],
          "name": "stdout"
        }
      ]
    },
    {
      "metadata": {
        "id": "uSq1Fz7l_YMl",
        "colab_type": "text"
      },
      "cell_type": "markdown",
      "source": [
        "This can also be assessed by plotting the histograms of the 'time to 10k' counter, which reports at which turn 10k was reached for each threshold. "
      ]
    },
    {
      "metadata": {
        "id": "xst1JzbgThWk",
        "colab_type": "code",
        "colab": {}
      },
      "cell_type": "code",
      "source": [
        "plt.hist(scoreKeeper, bins = 10)\n",
        "plt.show()"
      ],
      "execution_count": 0,
      "outputs": []
    }
  ]
}