{
  "nbformat": 4,
  "nbformat_minor": 0,
  "metadata": {
    "colab": {
      "name": "Copy of 10k_game.ipynb",
      "version": "0.3.2",
      "provenance": [],
      "collapsed_sections": [],
      "include_colab_link": true
    },
    "kernelspec": {
      "name": "python3",
      "display_name": "Python 3"
    }
  },
  "cells": [
    {
      "cell_type": "markdown",
      "metadata": {
        "id": "view-in-github",
        "colab_type": "text"
      },
      "source": [
        "[View in Colaboratory](https://colab.research.google.com/github/jimmyjamesarnold/10k_statistical_inferences/blob/master/10k_game_plots.ipynb)"
      ]
    },
    {
      "metadata": {
        "id": "BSQ0xvx3S-u8",
        "colab_type": "text"
      },
      "cell_type": "markdown",
      "source": [
        "10000 Dice Game in Python - when should you 'lock in' your score?"
      ]
    },
    {
      "metadata": {
        "id": "xwz-WXUlMsz2",
        "colab_type": "code",
        "colab": {}
      },
      "cell_type": "code",
      "source": [
        "# 10000 in Python (for stats)\n",
        "# single game, threshold = 200\n",
        "# dice df generator \n",
        "\n",
        "# dependencies\n",
        "import numpy as np\n",
        "import pandas as pd\n",
        "import matplotlib.pyplot as plt\n",
        "from collections import Counter\n",
        "from itertools import chain, combinations"
      ],
      "execution_count": 0,
      "outputs": []
    },
    {
      "metadata": {
        "id": "CZpch00ZQqND",
        "colab_type": "text"
      },
      "cell_type": "markdown",
      "source": [
        ""
      ]
    },
    {
      "metadata": {
        "id": "AyfCdlppQzRh",
        "colab_type": "code",
        "colab": {}
      },
      "cell_type": "code",
      "source": [
        "def rollDice(n) :\n",
        "    \"\"\" takes input n # dice to roll, returns pd.df\"\"\"\n",
        "    rollList = pd.DataFrame([[n+1,np.random.randint(1, 6)] for n in range(n)])\n",
        "    rollList.columns = ['die','face']\n",
        "    return rollList\n",
        "   \n",
        "# method to count n-of-a-kind combos\n",
        "def searchOnes(df):\n",
        "    \"\"\"pass in df from diceRoll, evaluates, saves scores and dice indices\"\"\"\n",
        "    matched = len(df[df.face == 1].face)\n",
        "    dice = df[df.face == 1].index.values\n",
        "    if matched == 3: \n",
        "        options.append([1000, dice])\n",
        "    elif matched > 3: \n",
        "        options.append([1000 * (2 ** (matched - 3)), dice])\n",
        "            \n",
        "def nOfaKind(df): \n",
        "    \"\"\"pass in df from diceRoll, evaluates, saves scores and dice indices\"\"\"\n",
        "    for i in range(2,7): \n",
        "        matched = len(df[df.face == i].face)\n",
        "        dice = df[df.face == i].index.values         \n",
        "        if matched == 3: \n",
        "            options.append([i*100, dice])\n",
        "        elif matched > 3: \n",
        "            options.append([(i*100) * (2 ** (matched - 3)), dice])\n",
        "            \n",
        "def straight(df):# looks for straight\n",
        "    \"\"\" looks for straight \"\"\"\n",
        "    if df.face.nunique() == 6:\n",
        "        options.append([1000, df.index.values])\n",
        "        \n",
        "# Looks for 3 Pairs\n",
        "def threePairs(df):\n",
        "    \"\"\" Counts matched pairs in set, looks for 3 pairs of 2\"\"\"\n",
        "    if list(Counter([(i,j) for i in df.die for j in df.face if i == j]).values()).count(2) == 3: # test for 3 sets of 2 in the list of counts of frequency of pairs\n",
        "        options.append([1000, df.index.values])            \n",
        "            \n",
        "def comboSearch(df):\n",
        "    \"\"\" search for scoring combos in set \"\"\"\n",
        "    searchOnes(df)\n",
        "    nOfaKind(df)\n",
        "    straight(df)\n",
        "    threePairs(df)"
      ],
      "execution_count": 0,
      "outputs": []
    },
    {
      "metadata": {
        "id": "WH-BfNkRQ4hJ",
        "colab_type": "text"
      },
      "cell_type": "markdown",
      "source": [
        ""
      ]
    },
    {
      "metadata": {
        "id": "ycK5jQFiQ44y",
        "colab_type": "code",
        "colab": {}
      },
      "cell_type": "code",
      "source": [
        "scoreKeeper = []\n",
        "for i in range(10):  \n",
        "  gameScore = [0] #this games' score\n",
        "  for rounds in range(30): #run the game for 30 cycles, see what scores are generated\n",
        "      score = [0] #this round's score\n",
        "      n = 6 # initialize n dice (6)\n",
        "      while n > 0:\n",
        "          options = [] # initialize options for storing combos, inside while so it's always fresh\n",
        "          df = rollDice(n) #df of dice and faces\n",
        "          comboSearch(df)\n",
        "          dfOpt = pd.DataFrame(options, columns = ['points', 'dice'])\n",
        "          if sum(dfOpt.points) > 0 :\n",
        "              dfOpt = dfOpt[dfOpt.points == max(dfOpt.points)].reset_index() # subset for max points\n",
        "              score = sum(score + dfOpt.points) # record score from sets\n",
        "              df = df.drop(dfOpt.dice[0]) # drop scored dice\n",
        "          else: score = 0 \n",
        "          del options[:] # delete options\n",
        "          dfOpt = pd.DataFrame(columns=dfOpt.columns) # clears dfOpt\n",
        "          if len(df.index.values) > 0: # checks remaining dice for 1s and 5s\n",
        "              extra = sum([100*len(df[df.face == 1].face)] + [50*len(df[df.face == 5].face)]) # count up 100s and 50s\n",
        "              score = score + extra # add extra points\n",
        "              df = df.drop(df[df.face == 1].index.values)\n",
        "              df = df.drop(df[df.face == 5].index.values)     # drops remaining 1s and 5s\n",
        "          if score == 0: # You rolled nothing\n",
        "              gameScore.append(gameScore[-1])\n",
        "              n = 0 # ends turn\n",
        "          elif score >= 200 and gameScore[-1] >= 1000: # Hit \"threshold\", lock in \n",
        "                  gameScore.append(gameScore[-1] + score)\n",
        "                  n = 0 # ends turn\n",
        "          elif score >= 1000: #You're on the board\n",
        "                  gameScore.append(gameScore[-1] + score)\n",
        "                  n = 0 # ends turn\n",
        "          else: # threshold not hit, re-roll dice\n",
        "              if len(df.index.values) > 0:\n",
        "                      n = len(df.index.values) # re-roll remaining dice.\n",
        "              else: n = 6 # All dice were used, but threshold not hit, re-roll\n",
        "  scoreKeeper.append(gameScore[-1])"
      ],
      "execution_count": 0,
      "outputs": []
    },
    {
      "metadata": {
        "id": "D4fAK3gSQ7ma",
        "colab_type": "text"
      },
      "cell_type": "markdown",
      "source": [
        ""
      ]
    },
    {
      "metadata": {
        "id": "vhLTgTzlQ76k",
        "colab_type": "code",
        "colab": {
          "base_uri": "https://localhost:8080/",
          "height": 34
        },
        "outputId": "6d102ae0-4f43-4934-84cf-716ed8b23702"
      },
      "cell_type": "code",
      "source": [
        "print(scoreKeeper)"
      ],
      "execution_count": 4,
      "outputs": [
        {
          "output_type": "stream",
          "text": [
            "[14150, 14900, 13200, 14850, 20000, 13550, 13200, 14600, 15000, 12900]\n"
          ],
          "name": "stdout"
        }
      ]
    },
    {
      "metadata": {
        "id": "xst1JzbgThWk",
        "colab_type": "code",
        "colab": {
          "base_uri": "https://localhost:8080/",
          "height": 347
        },
        "outputId": "e1a846b6-d108-420b-b586-50086dae0a7c"
      },
      "cell_type": "code",
      "source": [
        "plt.hist(scoreKeeper)\n",
        "plt.show()"
      ],
      "execution_count": 7,
      "outputs": [
        {
          "output_type": "display_data",
          "data": {
            "image/png": "[encoded data removed]",
            "text/plain": [
              "<matplotlib.figure.Figure at 0x7fb7577f2fd0>"
            ]
          },
          "metadata": {
            "tags": []
          }
        }
      ]
    }
  ]
}