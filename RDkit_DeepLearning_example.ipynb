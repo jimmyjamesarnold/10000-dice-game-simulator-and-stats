{
  "nbformat": 4,
  "nbformat_minor": 0,
  "metadata": {
    "colab": {
      "name": "chemo.ipynb",
      "version": "0.3.2",
      "provenance": [],
      "collapsed_sections": [],
      "include_colab_link": true
    },
    "kernelspec": {
      "name": "python3",
      "display_name": "Python 3"
    },
    "accelerator": "GPU"
  },
  "cells": [
    {
      "cell_type": "markdown",
      "metadata": {
        "id": "view-in-github",
        "colab_type": "text"
      },
      "source": [
        "<a href=\"https://colab.research.google.com/github/jimmyjamesarnold/10000-dice-game-simulator-and-stats/blob/master/RDkit_DeepLearning_example.ipynb\" target=\"_parent\"><img src=\"https://colab.research.google.com/assets/colab-badge.svg\" alt=\"Open In Colab\"/></a>"
      ]
    },
    {
      "metadata": {
        "id": "c20nBaAf1yYV",
        "colab_type": "code",
        "outputId": "cf6b8342-50d5-40ac-d9fc-a3b231e735bf",
        "colab": {
          "base_uri": "https://localhost:8080/",
          "height": 34
        }
      },
      "cell_type": "code",
      "source": [
        "!python --version"
      ],
      "execution_count": 0,
      "outputs": [
        {
          "output_type": "stream",
          "text": [
            "Python 3.7.0\n"
          ],
          "name": "stdout"
        }
      ]
    },
    {
      "metadata": {
        "id": "iyKF-r93mUku",
        "colab_type": "code",
        "colab": {}
      },
      "cell_type": "code",
      "source": [
        ""
      ],
      "execution_count": 0,
      "outputs": []
    },
    {
      "metadata": {
        "id": "jCnwE9tRjoFf",
        "colab_type": "text"
      },
      "cell_type": "markdown",
      "source": [
        "Install rdkit"
      ]
    },
    {
      "metadata": {
        "id": "PInm4lFu2Uyq",
        "colab_type": "code",
        "outputId": "dd0ad815-e634-4f80-9cc6-5553ec54004b",
        "colab": {
          "base_uri": "https://localhost:8080/",
          "height": 1394
        }
      },
      "cell_type": "code",
      "source": [
        "!wget -c https://repo.continuum.io/miniconda/Miniconda3-latest-Linux-x86_64.sh\n",
        "!chmod +x Miniconda3-latest-Linux-x86_64.sh\n",
        "!time bash ./Miniconda3-latest-Linux-x86_64.sh -b -f -p /usr/local\n",
        "!time conda install -q -y -c conda-forge rdkit\n"
      ],
      "execution_count": 0,
      "outputs": [
        {
          "output_type": "stream",
          "text": [
            "--2018-10-31 14:40:18--  https://repo.continuum.io/miniconda/Miniconda3-latest-Linux-x86_64.sh\n",
            "Resolving repo.continuum.io (repo.continuum.io)... 104.16.18.10, 104.16.19.10, 2400:cb00:2048:1::6810:120a, ...\n",
            "Connecting to repo.continuum.io (repo.continuum.io)|104.16.18.10|:443... connected.\n",
            "HTTP request sent, awaiting response... 200 OK\n",
            "\n",
            "    The file is already fully retrieved; nothing to do.\n",
            "\n",
            "PREFIX=/usr/local\n",
            "reinstalling: python-3.7.0-hc3d631a_0 ...\n",
            "Python 3.7.0\n",
            "reinstalling: ca-certificates-2018.03.07-0 ...\n",
            "reinstalling: conda-env-2.6.0-1 ...\n",
            "reinstalling: libgcc-ng-8.2.0-hdf63c60_1 ...\n",
            "reinstalling: libstdcxx-ng-8.2.0-hdf63c60_1 ...\n",
            "reinstalling: libffi-3.2.1-hd88cf55_4 ...\n",
            "reinstalling: ncurses-6.1-hf484d3e_0 ...\n",
            "reinstalling: openssl-1.0.2p-h14c3975_0 ...\n",
            "reinstalling: xz-5.2.4-h14c3975_4 ...\n",
            "reinstalling: yaml-0.1.7-had09818_2 ...\n",
            "reinstalling: zlib-1.2.11-ha838bed_2 ...\n",
            "reinstalling: libedit-3.1.20170329-h6b74fdf_2 ...\n",
            "reinstalling: readline-7.0-h7b6447c_5 ...\n",
            "reinstalling: tk-8.6.8-hbc83047_0 ...\n",
            "reinstalling: sqlite-3.24.0-h84994c4_0 ...\n",
            "reinstalling: asn1crypto-0.24.0-py37_0 ...\n",
            "reinstalling: certifi-2018.8.24-py37_1 ...\n",
            "reinstalling: chardet-3.0.4-py37_1 ...\n",
            "reinstalling: idna-2.7-py37_0 ...\n",
            "reinstalling: pycosat-0.6.3-py37h14c3975_0 ...\n",
            "reinstalling: pycparser-2.18-py37_1 ...\n",
            "reinstalling: pysocks-1.6.8-py37_0 ...\n",
            "reinstalling: ruamel_yaml-0.15.46-py37h14c3975_0 ...\n",
            "reinstalling: six-1.11.0-py37_1 ...\n",
            "reinstalling: cffi-1.11.5-py37he75722e_1 ...\n",
            "reinstalling: setuptools-40.2.0-py37_0 ...\n",
            "reinstalling: cryptography-2.3.1-py37hc365091_0 ...\n",
            "reinstalling: wheel-0.31.1-py37_0 ...\n",
            "reinstalling: pip-10.0.1-py37_0 ...\n",
            "reinstalling: pyopenssl-18.0.0-py37_0 ...\n",
            "reinstalling: urllib3-1.23-py37_0 ...\n",
            "reinstalling: requests-2.19.1-py37_0 ...\n",
            "reinstalling: conda-4.5.11-py37_0 ...\n",
            "unlinking: ca-certificates-2018.10.15-ha4d7672_0\n",
            "unlinking: certifi-2018.10.15-py37_1000\n",
            "unlinking: conda-4.5.11-py37_1000\n",
            "unlinking: openssl-1.0.2p-h470a237_1\n",
            "installation finished.\n",
            "WARNING:\n",
            "    You currently have a PYTHONPATH environment variable set. This may cause\n",
            "    unexpected behavior when running the Python interpreter in Miniconda3.\n",
            "    For best results, please verify that your PYTHONPATH only points to\n",
            "    directories of packages that are compatible with the Python interpreter\n",
            "    in Miniconda3: /usr/local\n",
            "\n",
            "real\t0m15.274s\n",
            "user\t0m12.988s\n",
            "sys\t0m4.010s\n",
            "Solving environment: ...working... done\n",
            "\n",
            "## Package Plan ##\n",
            "\n",
            "  environment location: /usr/local\n",
            "\n",
            "  added / updated specs: \n",
            "    - rdkit\n",
            "\n",
            "\n",
            "The following packages will be UPDATED:\n",
            "\n",
            "    ca-certificates: 2018.03.07-0      --> 2018.10.15-ha4d7672_0 conda-forge\n",
            "    certifi:         2018.8.24-py37_1  --> 2018.10.15-py37_1000  conda-forge\n",
            "    conda:           4.5.11-py37_0     --> 4.5.11-py37_1000      conda-forge\n",
            "    openssl:         1.0.2p-h14c3975_0 --> 1.0.2p-h470a237_1     conda-forge\n",
            "\n",
            "Preparing transaction: ...working... done\n",
            "Verifying transaction: ...working... done\n",
            "Executing transaction: ...working... done\n",
            "\n",
            "real\t0m40.676s\n",
            "user\t0m38.224s\n",
            "sys\t0m1.171s\n"
          ],
          "name": "stdout"
        }
      ]
    },
    {
      "metadata": {
        "id": "mK9s1rCdjuMM",
        "colab_type": "text"
      },
      "cell_type": "markdown",
      "source": [
        "Append RDKit path and import packages"
      ]
    },
    {
      "metadata": {
        "id": "AFT7w0WD2bj_",
        "colab_type": "code",
        "colab": {}
      },
      "cell_type": "code",
      "source": [
        "%matplotlib inline\n",
        "import matplotlib.pyplot as plt\n",
        "import sys\n",
        "import os\n",
        "sys.path.append('/usr/local/lib/python3.7/site-packages/')"
      ],
      "execution_count": 0,
      "outputs": []
    },
    {
      "metadata": {
        "id": "L_QLM4zNOp5A",
        "colab_type": "code",
        "colab": {}
      },
      "cell_type": "code",
      "source": [
        "import numpy as np\n",
        "import pandas as pd\n",
        "\n",
        "from rdkit import Chem\n",
        "from rdkit.Chem import DataStructs\n",
        "from rdkit.Chem import AllChem\n",
        "from rdkit.Chem import RDConfig\n",
        "from rdkit import rdBase\n",
        "from rdkit.Chem.Draw import IPythonConsole"
      ],
      "execution_count": 0,
      "outputs": []
    },
    {
      "metadata": {
        "id": "cP4ELmt67TwY",
        "colab_type": "code",
        "outputId": "2f23c8a6-294e-4254-91c9-c30618753cf0",
        "colab": {
          "base_uri": "https://localhost:8080/",
          "height": 34
        }
      },
      "cell_type": "code",
      "source": [
        "rdBase.rdkitVersion"
      ],
      "execution_count": 0,
      "outputs": [
        {
          "output_type": "execute_result",
          "data": {
            "text/plain": [
              "'2018.09.1'"
            ]
          },
          "metadata": {
            "tags": []
          },
          "execution_count": 5
        }
      ]
    },
    {
      "metadata": {
        "id": "MWzwrp1nj6c1",
        "colab_type": "text"
      },
      "cell_type": "markdown",
      "source": [
        "LOAD data"
      ]
    },
    {
      "metadata": {
        "id": "uJ66JY_Y6TJg",
        "colab_type": "code",
        "outputId": "6c9f716f-3a33-42c1-a809-739ce1acc080",
        "colab": {
          "base_uri": "https://localhost:8080/",
          "height": 34
        }
      },
      "cell_type": "code",
      "source": [
        "trainsdf = Chem.SDMolSupplier(os.path.join( RDConfig.RDDocsDir, 'Book/data/solubility.train.sdf'))\n",
        "testsdf = Chem.SDMolSupplier(os.path.join( RDConfig.RDDocsDir, 'Book/data/solubility.test.sdf'))\n",
        "train_mols = [mol for mol in trainsdf if mol != None]\n",
        "test_mols = [mol for mol in testsdf if mol != None]\n",
        "print(len(train_mols), len(test_mols))\n",
        "\n",
        "sol_class = {\"(A) low\":0, \"(B) medium\":1, \"(C) high\": 2}"
      ],
      "execution_count": 0,
      "outputs": [
        {
          "output_type": "stream",
          "text": [
            "1025 257\n"
          ],
          "name": "stdout"
        }
      ]
    },
    {
      "metadata": {
        "id": "c7LO9wFe6_l9",
        "colab_type": "code",
        "colab": {}
      },
      "cell_type": "code",
      "source": [
        "# 2048 bit vector\n",
        "def mol2arr(mol):\n",
        "  arr = np.zeros((1,))\n",
        "  fp = AllChem.GetMorganFingerprintAsBitVect(mol, 2)\n",
        "  DataStructs.ConvertToNumpyArray(fp, arr)\n",
        "  return arr"
      ],
      "execution_count": 0,
      "outputs": []
    },
    {
      "metadata": {
        "id": "EbJSxd4tkAtN",
        "colab_type": "text"
      },
      "cell_type": "markdown",
      "source": [
        "import tensorflow and use keras"
      ]
    },
    {
      "metadata": {
        "id": "4eHTvTNDUJcY",
        "colab_type": "code",
        "outputId": "7fd4f12c-cfff-4d45-e88a-ec8c262fdc9c",
        "colab": {
          "base_uri": "https://localhost:8080/",
          "height": 34
        }
      },
      "cell_type": "code",
      "source": [
        "import tensorflow as tf\n",
        "import tensorflow.keras as keras\n",
        "from keras import Model\n",
        "from keras.layers import Activation, Dense, Dropout, Input\n",
        "from keras.utils import np_utils\n",
        "\n",
        "\n",
        "trainX = np.array([mol2arr(mol) for mol in train_mols])\n",
        "trainY = [sol_class[mol.GetProp(\"SOL_classification\")] for mol in train_mols]\n",
        "trainY = np_utils.to_categorical(trainY)\n",
        "\n",
        "testX = np.array([mol2arr(mol) for mol in test_mols])\n",
        "testY = [sol_class[mol.GetProp(\"SOL_classification\")] for mol in test_mols]\n",
        "testY = np_utils.to_categorical(testY)\n"
      ],
      "execution_count": 0,
      "outputs": [
        {
          "output_type": "stream",
          "text": [
            "Using TensorFlow backend.\n"
          ],
          "name": "stderr"
        }
      ]
    },
    {
      "metadata": {
        "id": "0O692Z2mUqC7",
        "colab_type": "code",
        "outputId": "f12e8353-77a8-4349-b0c6-63124e7def39",
        "colab": {
          "base_uri": "https://localhost:8080/",
          "height": 561
        }
      },
      "cell_type": "code",
      "source": [
        "inputs = Input(shape=(2048,), name='input')\n",
        "x = Dense(100, activation='relu', name='Layer1')(inputs)\n",
        "x = Dense(20, activation='relu', name='Layer2')(x)\n",
        "x = Dense(2, activation='relu', name='Layer3')(x)\n",
        "predictions = Dense(3, activation='softmax', name='output')(x)\n",
        "\n",
        "model = Model(inputs=inputs, outputs = predictions)\n",
        "model.compile(optimizer=tf.train.RMSPropOptimizer(0.001),\n",
        "                           loss='categorical_crossentropy',\n",
        "                           metrics=['accuracy'])\n",
        "model.summary()\n",
        "\n",
        "\n",
        "model_int = Model(inputs=inputs, outputs=model.get_layer(name='Layer3').output)\n",
        "model_int.summary()"
      ],
      "execution_count": 0,
      "outputs": [
        {
          "output_type": "stream",
          "text": [
            "_________________________________________________________________\n",
            "Layer (type)                 Output Shape              Param #   \n",
            "=================================================================\n",
            "input (InputLayer)           (None, 2048)              0         \n",
            "_________________________________________________________________\n",
            "Layer1 (Dense)               (None, 100)               204900    \n",
            "_________________________________________________________________\n",
            "Layer2 (Dense)               (None, 20)                2020      \n",
            "_________________________________________________________________\n",
            "Layer3 (Dense)               (None, 2)                 42        \n",
            "_________________________________________________________________\n",
            "output (Dense)               (None, 3)                 9         \n",
            "=================================================================\n",
            "Total params: 206,971\n",
            "Trainable params: 206,971\n",
            "Non-trainable params: 0\n",
            "_________________________________________________________________\n",
            "_________________________________________________________________\n",
            "Layer (type)                 Output Shape              Param #   \n",
            "=================================================================\n",
            "input (InputLayer)           (None, 2048)              0         \n",
            "_________________________________________________________________\n",
            "Layer1 (Dense)               (None, 100)               204900    \n",
            "_________________________________________________________________\n",
            "Layer2 (Dense)               (None, 20)                2020      \n",
            "_________________________________________________________________\n",
            "Layer3 (Dense)               (None, 2)                 42        \n",
            "=================================================================\n",
            "Total params: 206,962\n",
            "Trainable params: 206,962\n",
            "Non-trainable params: 0\n",
            "_________________________________________________________________\n"
          ],
          "name": "stdout"
        }
      ]
    },
    {
      "metadata": {
        "id": "M-OtvArzWXGC",
        "colab_type": "code",
        "outputId": "71813d6c-99e5-4b90-876e-5a315a8f861a",
        "colab": {
          "base_uri": "https://localhost:8080/",
          "height": 1717
        }
      },
      "cell_type": "code",
      "source": [
        "epochs = 50\n",
        "hist = model.fit(np.array(trainX), trainY, batch_size=32, epochs=epochs)"
      ],
      "execution_count": 0,
      "outputs": [
        {
          "output_type": "stream",
          "text": [
            "Epoch 1/50\n",
            "1025/1025 [==============================] - 1s 1ms/step - loss: 1.0888 - acc: 0.3424\n",
            "Epoch 2/50\n",
            "1025/1025 [==============================] - 0s 202us/step - loss: 1.0732 - acc: 0.3883\n",
            "Epoch 3/50\n",
            "1025/1025 [==============================] - 0s 185us/step - loss: 1.0208 - acc: 0.4273\n",
            "Epoch 4/50\n",
            "1025/1025 [==============================] - 0s 189us/step - loss: 0.9094 - acc: 0.5190\n",
            "Epoch 5/50\n",
            "1025/1025 [==============================] - 0s 189us/step - loss: 0.7589 - acc: 0.6459\n",
            "Epoch 6/50\n",
            "1025/1025 [==============================] - 0s 187us/step - loss: 0.6307 - acc: 0.7102\n",
            "Epoch 7/50\n",
            "1025/1025 [==============================] - 0s 208us/step - loss: 0.5441 - acc: 0.7415\n",
            "Epoch 8/50\n",
            "1025/1025 [==============================] - 0s 182us/step - loss: 0.4598 - acc: 0.7727\n",
            "Epoch 9/50\n",
            "1025/1025 [==============================] - 0s 184us/step - loss: 0.3952 - acc: 0.8195\n",
            "Epoch 10/50\n",
            "1025/1025 [==============================] - 0s 182us/step - loss: 0.3463 - acc: 0.8712\n",
            "Epoch 11/50\n",
            "1025/1025 [==============================] - 0s 185us/step - loss: 0.3072 - acc: 0.9112\n",
            "Epoch 12/50\n",
            "1025/1025 [==============================] - 0s 195us/step - loss: 0.2761 - acc: 0.9327\n",
            "Epoch 13/50\n",
            "1025/1025 [==============================] - 0s 189us/step - loss: 0.2553 - acc: 0.9454\n",
            "Epoch 14/50\n",
            "1025/1025 [==============================] - 0s 186us/step - loss: 0.2331 - acc: 0.9600\n",
            "Epoch 15/50\n",
            "1025/1025 [==============================] - 0s 186us/step - loss: 0.2211 - acc: 0.9659\n",
            "Epoch 16/50\n",
            "1025/1025 [==============================] - 0s 188us/step - loss: 0.2096 - acc: 0.9776\n",
            "Epoch 17/50\n",
            "1025/1025 [==============================] - 0s 186us/step - loss: 0.2005 - acc: 0.9707\n",
            "Epoch 18/50\n",
            "1025/1025 [==============================] - 0s 198us/step - loss: 0.1889 - acc: 0.9824\n",
            "Epoch 19/50\n",
            "1025/1025 [==============================] - 0s 192us/step - loss: 0.1790 - acc: 0.9844\n",
            "Epoch 20/50\n",
            "1025/1025 [==============================] - 0s 185us/step - loss: 0.1711 - acc: 0.9844\n",
            "Epoch 21/50\n",
            "1025/1025 [==============================] - 0s 191us/step - loss: 0.1638 - acc: 0.9844\n",
            "Epoch 22/50\n",
            "1025/1025 [==============================] - 0s 180us/step - loss: 0.1578 - acc: 0.9834\n",
            "Epoch 23/50\n",
            "1025/1025 [==============================] - 0s 191us/step - loss: 0.1493 - acc: 0.9873\n",
            "Epoch 24/50\n",
            "1025/1025 [==============================] - 0s 189us/step - loss: 0.1433 - acc: 0.9883\n",
            "Epoch 25/50\n",
            "1025/1025 [==============================] - 0s 181us/step - loss: 0.1406 - acc: 0.9902\n",
            "Epoch 26/50\n",
            "1025/1025 [==============================] - 0s 186us/step - loss: 0.1319 - acc: 0.9912\n",
            "Epoch 27/50\n",
            "1025/1025 [==============================] - 0s 184us/step - loss: 0.1305 - acc: 0.9902\n",
            "Epoch 28/50\n",
            "1025/1025 [==============================] - 0s 204us/step - loss: 0.1246 - acc: 0.9893\n",
            "Epoch 29/50\n",
            "1025/1025 [==============================] - 0s 185us/step - loss: 0.1167 - acc: 0.9902\n",
            "Epoch 30/50\n",
            "1025/1025 [==============================] - 0s 181us/step - loss: 0.1153 - acc: 0.9844\n",
            "Epoch 31/50\n",
            "1025/1025 [==============================] - 0s 179us/step - loss: 0.1093 - acc: 0.9893\n",
            "Epoch 32/50\n",
            "1025/1025 [==============================] - 0s 183us/step - loss: 0.1065 - acc: 0.9883\n",
            "Epoch 33/50\n",
            "1025/1025 [==============================] - 0s 182us/step - loss: 0.1019 - acc: 0.9893\n",
            "Epoch 34/50\n",
            "1025/1025 [==============================] - 0s 192us/step - loss: 0.0973 - acc: 0.9902\n",
            "Epoch 35/50\n",
            "1025/1025 [==============================] - 0s 188us/step - loss: 0.0948 - acc: 0.9893\n",
            "Epoch 36/50\n",
            "1025/1025 [==============================] - 0s 187us/step - loss: 0.0892 - acc: 0.9912\n",
            "Epoch 37/50\n",
            "1025/1025 [==============================] - 0s 189us/step - loss: 0.0871 - acc: 0.9893\n",
            "Epoch 38/50\n",
            "1025/1025 [==============================] - 0s 185us/step - loss: 0.0839 - acc: 0.9922\n",
            "Epoch 39/50\n",
            "1025/1025 [==============================] - 0s 202us/step - loss: 0.0796 - acc: 0.9893\n",
            "Epoch 40/50\n",
            "1025/1025 [==============================] - 0s 183us/step - loss: 0.0739 - acc: 0.9912\n",
            "Epoch 41/50\n",
            "1025/1025 [==============================] - 0s 181us/step - loss: 0.0742 - acc: 0.9893\n",
            "Epoch 42/50\n",
            "1025/1025 [==============================] - 0s 179us/step - loss: 0.0732 - acc: 0.9883\n",
            "Epoch 43/50\n",
            "1025/1025 [==============================] - 0s 179us/step - loss: 0.0693 - acc: 0.9893\n",
            "Epoch 44/50\n",
            "1025/1025 [==============================] - 0s 186us/step - loss: 0.0676 - acc: 0.9863\n",
            "Epoch 45/50\n",
            "1025/1025 [==============================] - 0s 187us/step - loss: 0.0652 - acc: 0.9893\n",
            "Epoch 46/50\n",
            "1025/1025 [==============================] - 0s 182us/step - loss: 0.0646 - acc: 0.9902\n",
            "Epoch 47/50\n",
            "1025/1025 [==============================] - 0s 181us/step - loss: 0.0597 - acc: 0.9893\n",
            "Epoch 48/50\n",
            "1025/1025 [==============================] - 0s 182us/step - loss: 0.0585 - acc: 0.9922\n",
            "Epoch 49/50\n",
            "1025/1025 [==============================] - 0s 183us/step - loss: 0.0581 - acc: 0.9912\n",
            "Epoch 50/50\n",
            "1025/1025 [==============================] - 0s 194us/step - loss: 0.0538 - acc: 0.9893\n"
          ],
          "name": "stdout"
        }
      ]
    },
    {
      "metadata": {
        "id": "mwkwhWydkHob",
        "colab_type": "text"
      },
      "cell_type": "markdown",
      "source": [
        "maybe 50 epochs is too mutch"
      ]
    },
    {
      "metadata": {
        "id": "alpYfIqaX1s2",
        "colab_type": "code",
        "outputId": "4a04b645-d678-4252-d117-ba21f8e8059e",
        "colab": {
          "base_uri": "https://localhost:8080/",
          "height": 282
        }
      },
      "cell_type": "code",
      "source": [
        "plt.plot(range(epochs), hist.history['acc'])\n",
        "plt.plot(range(epochs), hist.history['loss'])"
      ],
      "execution_count": 0,
      "outputs": [
        {
          "output_type": "execute_result",
          "data": {
            "text/plain": [
              "[<matplotlib.lines.Line2D at 0x7f5bec8ebdd8>]"
            ]
          },
          "metadata": {
            "tags": []
          },
          "execution_count": 11
        },
        {
          "output_type": "display_data",
          "data": {
            "image/png": "[encoded data removed]",
            "text/plain": [
              "<matplotlib.figure.Figure at 0x7f5be688a668>"
            ]
          },
          "metadata": {
            "tags": []
          }
        }
      ]
    },
    {
      "metadata": {
        "id": "8gu88IAMX-KM",
        "colab_type": "code",
        "outputId": "6a91d805-681f-4de2-aaf2-ec1d14a9c23f",
        "colab": {
          "base_uri": "https://localhost:8080/",
          "height": 153
        }
      },
      "cell_type": "code",
      "source": [
        "from sklearn.metrics import classification_report\n",
        "predY = model.predict(testX)\n",
        "predY = [np.argmax(y) for y in predY]\n",
        "Y = [np.argmax(y) for y in testY]\n",
        "print(classification_report(Y, predY))"
      ],
      "execution_count": 0,
      "outputs": [
        {
          "output_type": "stream",
          "text": [
            "             precision    recall  f1-score   support\n",
            "\n",
            "          0       0.67      0.80      0.73       102\n",
            "          1       0.75      0.61      0.67       115\n",
            "          2       0.73      0.75      0.74        40\n",
            "\n",
            "avg / total       0.72      0.71      0.71       257\n",
            "\n"
          ],
          "name": "stdout"
        }
      ]
    },
    {
      "metadata": {
        "id": "hZqQQxbmhEjD",
        "colab_type": "code",
        "colab": {}
      },
      "cell_type": "code",
      "source": [
        "intdata = model_int.predict(testX)\n",
        "colormap = {0:\"red\", 1:\"blue\", 2:\"green\"}\n",
        "c = [colormap[i] for i in Y]"
      ],
      "execution_count": 0,
      "outputs": []
    },
    {
      "metadata": {
        "id": "v9_QrO9sgiPU",
        "colab_type": "code",
        "outputId": "f2e23ae9-17d2-434a-ae0a-436b16ff4d57",
        "colab": {
          "base_uri": "https://localhost:8080/",
          "height": 34
        }
      },
      "cell_type": "code",
      "source": [
        "intdata[:,0].shape"
      ],
      "execution_count": 0,
      "outputs": [
        {
          "output_type": "execute_result",
          "data": {
            "text/plain": [
              "(257,)"
            ]
          },
          "metadata": {
            "tags": []
          },
          "execution_count": 14
        }
      ]
    },
    {
      "metadata": {
        "id": "gGjLQ3vwgwjv",
        "colab_type": "code",
        "outputId": "cb1baa55-cb0c-4291-a52f-bb12c873b5b3",
        "colab": {
          "base_uri": "https://localhost:8080/",
          "height": 284
        }
      },
      "cell_type": "code",
      "source": [
        "plt.scatter(intdata[:,0], intdata[:,1], c=c)"
      ],
      "execution_count": 0,
      "outputs": [
        {
          "output_type": "execute_result",
          "data": {
            "text/plain": [
              "<matplotlib.collections.PathCollection at 0x7f5be2f9f400>"
            ]
          },
          "metadata": {
            "tags": []
          },
          "execution_count": 15
        },
        {
          "output_type": "display_data",
          "data": {
            "image/png": "[encoded data removed]",
            "text/plain": [
              "<matplotlib.figure.Figure at 0x7f5be439ee80>"
            ]
          },
          "metadata": {
            "tags": []
          }
        }
      ]
    },
    {
      "metadata": {
        "id": "OVZGl0EairPr",
        "colab_type": "code",
        "colab": {}
      },
      "cell_type": "code",
      "source": [
        ""
      ],
      "execution_count": 0,
      "outputs": []
    }
  ]
}